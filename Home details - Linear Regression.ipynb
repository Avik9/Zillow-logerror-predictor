{
 "cells": [
  {
   "cell_type": "code",
   "execution_count": 1,
   "metadata": {},
   "outputs": [],
   "source": [
    "# load packages\n",
    "import pandas as pd\n",
    "import numpy as np\n",
    "from statsmodels.tools import eval_measures\n",
    "from sklearn.model_selection import train_test_split\n",
    "\n",
    "import statsmodels.api as sm\n",
    "\n",
    "# turn off scientific notation\n",
    "pd.set_option('display.float_format', lambda x: '%.5f' % x)\n",
    "\n",
    "from sklearn.metrics import mean_absolute_error as MAE\n",
    "from sklearn.linear_model import LinearRegression"
   ]
  },
  {
   "cell_type": "code",
   "execution_count": 2,
   "metadata": {},
   "outputs": [],
   "source": [
    "train_data = pd.read_csv (\"train_2017.csv\")\n",
    "properties_data = pd.read_csv (\"properties_2017.csv\")"
   ]
  },
  {
   "cell_type": "code",
   "execution_count": 3,
   "metadata": {},
   "outputs": [],
   "source": [
    "combined_data = pd.merge(train_data, properties_data, how = \"inner\", on = [\"parcelid\"])"
   ]
  },
  {
   "cell_type": "code",
   "execution_count": 4,
   "metadata": {},
   "outputs": [
    {
     "output_type": "stream",
     "name": "stdout",
     "text": [
      "Not able to fill: propertycountylandusecode\nNot able to fill: propertyzoningdesc\nNot able to fill: taxdelinquencyflag\n"
     ]
    }
   ],
   "source": [
    "formula = []\n",
    "null_columns = combined_data.columns[combined_data.isnull().any()]\n",
    "for col in combined_data.columns:\n",
    "    try:\n",
    "        if col in null_columns:\n",
    "            combined_data[col].fillna((combined_data[col].mean()),inplace = True)\n",
    "        if col != \"logerror\" and col != \"transactiondate\":\n",
    "            formula.append(col)\n",
    "    except:\n",
    "        print(\"Not able to fill: \" + col)"
   ]
  },
  {
   "cell_type": "code",
   "execution_count": 5,
   "metadata": {},
   "outputs": [],
   "source": [
    "train, test = train_test_split(combined_data, test_size = 0.25, random_state = 42)"
   ]
  },
  {
   "cell_type": "code",
   "execution_count": 6,
   "metadata": {},
   "outputs": [
    {
     "output_type": "execute_result",
     "data": {
      "text/plain": [
       "(58209, 60)"
      ]
     },
     "metadata": {},
     "execution_count": 6
    }
   ],
   "source": [
    "train.shape"
   ]
  },
  {
   "cell_type": "code",
   "execution_count": 7,
   "metadata": {},
   "outputs": [
    {
     "output_type": "execute_result",
     "data": {
      "text/plain": [
       "(19404, 60)"
      ]
     },
     "metadata": {},
     "execution_count": 7
    }
   ],
   "source": [
    "test.shape"
   ]
  },
  {
   "cell_type": "code",
   "execution_count": 8,
   "metadata": {},
   "outputs": [
    {
     "output_type": "execute_result",
     "data": {
      "text/plain": [
       "       parcelid  logerror transactiondate  airconditioningtypeid  \\\n",
       "11042  12845746  -0.04106      2017-02-21                1.81201   \n",
       "38028  11014702   0.01144      2017-05-19                1.00000   \n",
       "76193  17210539  -0.02439      2017-09-13                1.81201   \n",
       "37498  12909665   0.00091      2017-05-18                1.81201   \n",
       "35580  11491800  -0.05815      2017-05-12                1.81201   \n",
       "66718  13099917  -0.01426      2017-08-15                1.00000   \n",
       "27638  11660583  -0.03963      2017-04-19                1.00000   \n",
       "49495  17164537  -0.14860      2017-06-22                1.81201   \n",
       "46859  12377044  -0.11874      2017-06-15                1.81201   \n",
       "43662  12826444  -0.01729      2017-06-06                1.81201   \n",
       "\n",
       "       architecturalstyletypeid  basementsqft  bathroomcnt  bedroomcnt  \\\n",
       "11042                   7.38647     679.72000      4.00000     3.00000   \n",
       "38028                   7.38647     679.72000      2.00000     4.00000   \n",
       "76193                   7.38647     679.72000      2.00000     4.00000   \n",
       "37498                   7.38647     679.72000      2.00000     2.00000   \n",
       "35580                   7.38647     679.72000      3.00000     4.00000   \n",
       "66718                   7.38647     679.72000      2.00000     3.00000   \n",
       "27638                   7.38647     679.72000      7.00000     5.00000   \n",
       "49495                   7.38647     679.72000      2.00000     4.00000   \n",
       "46859                   7.38647     679.72000      1.00000     2.00000   \n",
       "43662                   7.38647     679.72000      1.00000     3.00000   \n",
       "\n",
       "       buildingclasstypeid  buildingqualitytypeid  ...  numberofstories  \\\n",
       "11042              3.93333                9.00000  ...          1.43429   \n",
       "38028              3.93333                8.00000  ...          1.43429   \n",
       "76193              3.93333                6.53378  ...          1.00000   \n",
       "37498              3.93333                6.00000  ...          1.43429   \n",
       "35580              3.93333               11.00000  ...          1.43429   \n",
       "66718              3.93333                8.00000  ...          1.43429   \n",
       "27638              3.93333               11.00000  ...          1.43429   \n",
       "49495              3.93333                6.53378  ...          1.00000   \n",
       "46859              3.93333                4.00000  ...          1.43429   \n",
       "43662              3.93333                4.00000  ...          1.43429   \n",
       "\n",
       "       fireplaceflag  structuretaxvaluedollarcnt  taxvaluedollarcnt  \\\n",
       "11042        1.00000                239879.00000       334616.00000   \n",
       "38028        1.00000                258883.00000       615624.00000   \n",
       "76193        1.00000                286479.00000       572958.00000   \n",
       "37498        1.00000                 98745.00000       116532.00000   \n",
       "35580        1.00000                390815.00000       971635.00000   \n",
       "66718        1.00000                148637.00000       329493.00000   \n",
       "27638        1.00000               1007264.00000      2494966.00000   \n",
       "49495        1.00000                 50714.00000        65164.00000   \n",
       "46859        1.00000                 21513.00000        47792.00000   \n",
       "43662        1.00000                 65827.00000       133148.00000   \n",
       "\n",
       "       assessmentyear  landtaxvaluedollarcnt   taxamount  taxdelinquencyflag  \\\n",
       "11042      2016.00000            94737.00000  4225.07000                 NaN   \n",
       "38028      2016.00000           356741.00000  7521.32000                 NaN   \n",
       "76193      2016.00000           286479.00000  6480.12000                 NaN   \n",
       "37498      2016.00000            17787.00000  1696.07000                 NaN   \n",
       "35580      2016.00000           580820.00000 11479.59000                 NaN   \n",
       "66718      2016.00000           180856.00000  3986.76000                 NaN   \n",
       "27638      2016.00000          1487702.00000 30189.06000                 NaN   \n",
       "49495      2016.00000            14450.00000   735.88000                 NaN   \n",
       "46859      2016.00000            26279.00000  1238.70000                 NaN   \n",
       "43662      2016.00000            67321.00000  1864.79000                 NaN   \n",
       "\n",
       "       taxdelinquencyyear  censustractandblock  \n",
       "11042            14.08828 60375001001006.00000  \n",
       "38028            14.08828 60371066411005.00000  \n",
       "76193            14.08828 61110063021008.00000  \n",
       "37498            14.08828 60374038022002.00000  \n",
       "35580            14.08828 60376206013001.00000  \n",
       "66718            14.08828 60374033042000.00000  \n",
       "27638            14.08828 60372623033003.00000  \n",
       "49495            14.08828 61110037001017.00000  \n",
       "46859            14.08828 60375301013009.00000  \n",
       "43662            14.08828 60375035021005.00000  \n",
       "\n",
       "[10 rows x 60 columns]"
      ],
      "text/html": "<div>\n<style scoped>\n    .dataframe tbody tr th:only-of-type {\n        vertical-align: middle;\n    }\n\n    .dataframe tbody tr th {\n        vertical-align: top;\n    }\n\n    .dataframe thead th {\n        text-align: right;\n    }\n</style>\n<table border=\"1\" class=\"dataframe\">\n  <thead>\n    <tr style=\"text-align: right;\">\n      <th></th>\n      <th>parcelid</th>\n      <th>logerror</th>\n      <th>transactiondate</th>\n      <th>airconditioningtypeid</th>\n      <th>architecturalstyletypeid</th>\n      <th>basementsqft</th>\n      <th>bathroomcnt</th>\n      <th>bedroomcnt</th>\n      <th>buildingclasstypeid</th>\n      <th>buildingqualitytypeid</th>\n      <th>...</th>\n      <th>numberofstories</th>\n      <th>fireplaceflag</th>\n      <th>structuretaxvaluedollarcnt</th>\n      <th>taxvaluedollarcnt</th>\n      <th>assessmentyear</th>\n      <th>landtaxvaluedollarcnt</th>\n      <th>taxamount</th>\n      <th>taxdelinquencyflag</th>\n      <th>taxdelinquencyyear</th>\n      <th>censustractandblock</th>\n    </tr>\n  </thead>\n  <tbody>\n    <tr>\n      <th>11042</th>\n      <td>12845746</td>\n      <td>-0.04106</td>\n      <td>2017-02-21</td>\n      <td>1.81201</td>\n      <td>7.38647</td>\n      <td>679.72000</td>\n      <td>4.00000</td>\n      <td>3.00000</td>\n      <td>3.93333</td>\n      <td>9.00000</td>\n      <td>...</td>\n      <td>1.43429</td>\n      <td>1.00000</td>\n      <td>239879.00000</td>\n      <td>334616.00000</td>\n      <td>2016.00000</td>\n      <td>94737.00000</td>\n      <td>4225.07000</td>\n      <td>NaN</td>\n      <td>14.08828</td>\n      <td>60375001001006.00000</td>\n    </tr>\n    <tr>\n      <th>38028</th>\n      <td>11014702</td>\n      <td>0.01144</td>\n      <td>2017-05-19</td>\n      <td>1.00000</td>\n      <td>7.38647</td>\n      <td>679.72000</td>\n      <td>2.00000</td>\n      <td>4.00000</td>\n      <td>3.93333</td>\n      <td>8.00000</td>\n      <td>...</td>\n      <td>1.43429</td>\n      <td>1.00000</td>\n      <td>258883.00000</td>\n      <td>615624.00000</td>\n      <td>2016.00000</td>\n      <td>356741.00000</td>\n      <td>7521.32000</td>\n      <td>NaN</td>\n      <td>14.08828</td>\n      <td>60371066411005.00000</td>\n    </tr>\n    <tr>\n      <th>76193</th>\n      <td>17210539</td>\n      <td>-0.02439</td>\n      <td>2017-09-13</td>\n      <td>1.81201</td>\n      <td>7.38647</td>\n      <td>679.72000</td>\n      <td>2.00000</td>\n      <td>4.00000</td>\n      <td>3.93333</td>\n      <td>6.53378</td>\n      <td>...</td>\n      <td>1.00000</td>\n      <td>1.00000</td>\n      <td>286479.00000</td>\n      <td>572958.00000</td>\n      <td>2016.00000</td>\n      <td>286479.00000</td>\n      <td>6480.12000</td>\n      <td>NaN</td>\n      <td>14.08828</td>\n      <td>61110063021008.00000</td>\n    </tr>\n    <tr>\n      <th>37498</th>\n      <td>12909665</td>\n      <td>0.00091</td>\n      <td>2017-05-18</td>\n      <td>1.81201</td>\n      <td>7.38647</td>\n      <td>679.72000</td>\n      <td>2.00000</td>\n      <td>2.00000</td>\n      <td>3.93333</td>\n      <td>6.00000</td>\n      <td>...</td>\n      <td>1.43429</td>\n      <td>1.00000</td>\n      <td>98745.00000</td>\n      <td>116532.00000</td>\n      <td>2016.00000</td>\n      <td>17787.00000</td>\n      <td>1696.07000</td>\n      <td>NaN</td>\n      <td>14.08828</td>\n      <td>60374038022002.00000</td>\n    </tr>\n    <tr>\n      <th>35580</th>\n      <td>11491800</td>\n      <td>-0.05815</td>\n      <td>2017-05-12</td>\n      <td>1.81201</td>\n      <td>7.38647</td>\n      <td>679.72000</td>\n      <td>3.00000</td>\n      <td>4.00000</td>\n      <td>3.93333</td>\n      <td>11.00000</td>\n      <td>...</td>\n      <td>1.43429</td>\n      <td>1.00000</td>\n      <td>390815.00000</td>\n      <td>971635.00000</td>\n      <td>2016.00000</td>\n      <td>580820.00000</td>\n      <td>11479.59000</td>\n      <td>NaN</td>\n      <td>14.08828</td>\n      <td>60376206013001.00000</td>\n    </tr>\n    <tr>\n      <th>66718</th>\n      <td>13099917</td>\n      <td>-0.01426</td>\n      <td>2017-08-15</td>\n      <td>1.00000</td>\n      <td>7.38647</td>\n      <td>679.72000</td>\n      <td>2.00000</td>\n      <td>3.00000</td>\n      <td>3.93333</td>\n      <td>8.00000</td>\n      <td>...</td>\n      <td>1.43429</td>\n      <td>1.00000</td>\n      <td>148637.00000</td>\n      <td>329493.00000</td>\n      <td>2016.00000</td>\n      <td>180856.00000</td>\n      <td>3986.76000</td>\n      <td>NaN</td>\n      <td>14.08828</td>\n      <td>60374033042000.00000</td>\n    </tr>\n    <tr>\n      <th>27638</th>\n      <td>11660583</td>\n      <td>-0.03963</td>\n      <td>2017-04-19</td>\n      <td>1.00000</td>\n      <td>7.38647</td>\n      <td>679.72000</td>\n      <td>7.00000</td>\n      <td>5.00000</td>\n      <td>3.93333</td>\n      <td>11.00000</td>\n      <td>...</td>\n      <td>1.43429</td>\n      <td>1.00000</td>\n      <td>1007264.00000</td>\n      <td>2494966.00000</td>\n      <td>2016.00000</td>\n      <td>1487702.00000</td>\n      <td>30189.06000</td>\n      <td>NaN</td>\n      <td>14.08828</td>\n      <td>60372623033003.00000</td>\n    </tr>\n    <tr>\n      <th>49495</th>\n      <td>17164537</td>\n      <td>-0.14860</td>\n      <td>2017-06-22</td>\n      <td>1.81201</td>\n      <td>7.38647</td>\n      <td>679.72000</td>\n      <td>2.00000</td>\n      <td>4.00000</td>\n      <td>3.93333</td>\n      <td>6.53378</td>\n      <td>...</td>\n      <td>1.00000</td>\n      <td>1.00000</td>\n      <td>50714.00000</td>\n      <td>65164.00000</td>\n      <td>2016.00000</td>\n      <td>14450.00000</td>\n      <td>735.88000</td>\n      <td>NaN</td>\n      <td>14.08828</td>\n      <td>61110037001017.00000</td>\n    </tr>\n    <tr>\n      <th>46859</th>\n      <td>12377044</td>\n      <td>-0.11874</td>\n      <td>2017-06-15</td>\n      <td>1.81201</td>\n      <td>7.38647</td>\n      <td>679.72000</td>\n      <td>1.00000</td>\n      <td>2.00000</td>\n      <td>3.93333</td>\n      <td>4.00000</td>\n      <td>...</td>\n      <td>1.43429</td>\n      <td>1.00000</td>\n      <td>21513.00000</td>\n      <td>47792.00000</td>\n      <td>2016.00000</td>\n      <td>26279.00000</td>\n      <td>1238.70000</td>\n      <td>NaN</td>\n      <td>14.08828</td>\n      <td>60375301013009.00000</td>\n    </tr>\n    <tr>\n      <th>43662</th>\n      <td>12826444</td>\n      <td>-0.01729</td>\n      <td>2017-06-06</td>\n      <td>1.81201</td>\n      <td>7.38647</td>\n      <td>679.72000</td>\n      <td>1.00000</td>\n      <td>3.00000</td>\n      <td>3.93333</td>\n      <td>4.00000</td>\n      <td>...</td>\n      <td>1.43429</td>\n      <td>1.00000</td>\n      <td>65827.00000</td>\n      <td>133148.00000</td>\n      <td>2016.00000</td>\n      <td>67321.00000</td>\n      <td>1864.79000</td>\n      <td>NaN</td>\n      <td>14.08828</td>\n      <td>60375035021005.00000</td>\n    </tr>\n  </tbody>\n</table>\n<p>10 rows × 60 columns</p>\n</div>"
     },
     "metadata": {},
     "execution_count": 8
    }
   ],
   "source": [
    "train.head(10)"
   ]
  },
  {
   "cell_type": "code",
   "execution_count": 9,
   "metadata": {},
   "outputs": [],
   "source": [
    "train_X = train[formula]"
   ]
  },
  {
   "cell_type": "code",
   "execution_count": 10,
   "metadata": {},
   "outputs": [],
   "source": [
    "multi_lm = LinearRegression(n_jobs=-1).fit(train_X, train.logerror)"
   ]
  },
  {
   "cell_type": "code",
   "execution_count": 11,
   "metadata": {},
   "outputs": [],
   "source": [
    "test_X = test[formula]"
   ]
  },
  {
   "cell_type": "code",
   "execution_count": 12,
   "metadata": {},
   "outputs": [],
   "source": [
    "# Get prediction\n",
    "pred = multi_lm.predict(test_X)"
   ]
  },
  {
   "cell_type": "code",
   "execution_count": 13,
   "metadata": {},
   "outputs": [
    {
     "output_type": "execute_result",
     "data": {
      "text/plain": [
       "81.66592588635177"
      ]
     },
     "metadata": {},
     "execution_count": 13
    }
   ],
   "source": [
    "100-(eval_measures.rmse(test[\"logerror\"], pred)*100)"
   ]
  },
  {
   "cell_type": "code",
   "execution_count": 14,
   "metadata": {},
   "outputs": [
    {
     "output_type": "execute_result",
     "data": {
      "text/plain": [
       "92.75029630902645"
      ]
     },
     "metadata": {},
     "execution_count": 14
    }
   ],
   "source": [
    "100-(MAE(pred,test[\"logerror\"])*100)"
   ]
  },
  {
   "cell_type": "code",
   "execution_count": 15,
   "metadata": {},
   "outputs": [
    {
     "output_type": "execute_result",
     "data": {
      "text/plain": [
       "              0.00000            0.00195  ...   \n",
       "unitcnt                                    -0.07332            0.08253  ...   \n",
       "yardbuildingsqft17                         -0.00000            0.04709  ...   \n",
       "yardbuildingsqft26                          0.00000            0.00147  ...   \n",
       "yearbuilt                                   0.47629            0.37261  ...   \n",
       "numberofstories                             0.00022            0.14067  ...   \n",
       "structuretaxvaluedollarcnt                  0.31770            0.58341  ...   \n",
       "taxvaluedollarcnt                           0.25228            0.47798  ...   \n",
       "assessmentyear                                  nan                nan  ...   \n",
       "landtaxvaluedollarcnt                       0.18609            0.36164  ...   \n",
       "taxamount                                   0.25566            0.48306  ...   \n",
       "taxdelinquencyyear                          0.01097            0.00737  ...   \n",
       "censustractandblock                        -0.00128            0.00287  ...   \n",
       "\n",
       "                              yardbuildingsqft26  yearbuilt  numberofstories  \\\n",
       "parcelid                                 0.00011    0.13378          0.01879   \n",
       "logerror                                -0.00069    0.00483          0.00414   \n",
       "airconditioningtypeid                   -0.00000   -0.03418          0.09690   \n",
       "architecturalstyletypeid                -0.00000   -0.00146         -0.00363   \n",
       "basementsqft                            -0.02811    0.01121          0.00524   \n",
       "bathroomcnt                              0.00144    0.37024          0.12749   \n",
       "bedroomcnt                              -0.00354    0.04734          0.06785   \n",
       "buildingclasstypeid                      0.00000    0.00226          0.00191   \n",
       "buildingqualitytypeid                    0.00000    0.47629          0.00022   \n",
       "calculatedbathnbr                        0.00147    0.37261          0.14067   \n",
       "decktypeid                                   nan        nan              nan   \n",
       "finishedfloor1squarefeet                 0.03807    0.01218         -0.14118   \n",
       "calculatedfinishedsquarefeet             0.00181    0.21708          0.14504   \n",
       "finishedsquarefeet12                     0.00189    0.24790          0.14394   \n",
       "finishedsquarefeet13                     0.00000   -0.00115          0.00000   \n",
       "finishedsquarefeet15                     0.00000    0.03090         -0.00132   \n",
       "finishedsquarefeet50                     0.02196    0.01033         -0.13209   \n",
       "finishedsquarefeet6                      0.00000    0.02642          0.07272   \n",
       "fips                                     0.00000    0.23519          0.03885   \n",
       "fireplacecnt                             0.00512    0.04597          0.11574   \n",
       "fullbathcnt                              0.00136    0.32765          0.09625   \n",
       "garagecarcnt                            -0.00023    0.08207          0.08250   \n",
       "garagetotalsqft                          0.00744   -0.03952          0.01978   \n",
       "heatingorsystemtypeid                   -0.00000   -0.24280         -0.04749   \n",
       "latitude                                 0.00138   -0.00158          0.01486   \n",
       "longitude                                0.00413    0.06695         -0.03366   \n",
       "lotsizesquarefeet                        0.00036    0.10735          0.00181   \n",
       "poolcnt                                      nan        nan              nan   \n",
       "poolsizesum                             -0.03100    0.00349          0.01704   \n",
       "pooltypeid10                                 nan        nan              nan   \n",
       "pooltypeid2                                  nan        nan              nan   \n",
       "pooltypeid7                                  nan        nan              nan   \n",
       "propertylandusetypeid                   -0.00167    0.34773          0.00667   \n",
       "rawcensustractandblock                   0.00000    0.23659          0.03908   \n",
       "regionidcity                            -0.00091   -0.05367         -0.00287   \n",
       "regionidcounty                           0.00000   -0.28464          0.01416   \n",
       "regionidneighborhood                    -0.00335   -0.02502         -0.01189   \n",
       "regionidzip                              0.00008    0.04553         -0.00047   \n",
       "roomcnt                                 -0.00016    0.07551          0.07337   \n",
       "storytypeid                                  nan        nan              nan   \n",
       "threequarterbathnbr                     -0.00006    0.01299         -0.02128   \n",
       "typeconstructiontypeid                   0.00000    0.00242          0.00259   \n",
       "unitcnt                                 -0.00043   -0.05973          0.01715   \n",
       "yardbuildingsqft17                      -0.02690    0.00269          0.00342   \n",
       "yardbuildingsqft26                       1.00000    0.00122         -0.01527   \n",
       "yearbuilt                                0.00122    1.00000          0.10372   \n",
       "numberofstories                         -0.01527    0.10372          1.00000   \n",
       "structuretaxvaluedollarcnt              -0.00368    0.27769          0.06655   \n",
       "taxvaluedollarcnt                       -0.00262    0.11840          0.04622   \n",
       "assessmentyear                               nan        nan              nan   \n",
       "landtaxvaluedollarcnt                   -0.00176    0.02710          0.03020   \n",
       "taxamount                               -0.00298    0.12384          0.04503   \n",
       "taxdelinquencyyear                       0.00075    0.00917          0.00159   \n",
       "censustractandblock                      0.00000    0.03233          0.00519   \n",
       "\n",
       "                              structuretaxvaluedollarcnt  taxvaluedollarcnt  \\\n",
       "parcelid                                         0.02917            0.01250   \n",
       "logerror                                         0.00840            0.00342   \n",
       "airconditioningtypeid                           -0.04103           -0.00845   \n",
       "architecturalstyletypeid                        -0.00081            0.00005   \n",
       "basementsqft                                     0.00556            0.00883   \n",
       "bathroomcnt                                      0.56492            0.46101   \n",
       "bedroomcnt                                       0.29588            0.23932   \n",
       "buildingclasstypeid                             -0.01961           -0.00775   \n",
       "buildingqualitytypeid                            0.31770            0.25228   \n",
       "calculatedbathnbr                                0.58341            0.47798   \n",
       "decktypeid                                           nan                nan   \n",
       "finishedfloor1squarefeet                         0.12150            0.09837   \n",
       "calculatedfinishedsquarefeet                     0.68647            0.57918   \n",
       "finishedsquarefeet12                             0.70315            0.59394   \n",
       "finishedsquarefeet13                             0.00203           -0.00017   \n",
       "finishedsquarefeet15                             0.06045            0.04376   \n",
       "finishedsquarefeet50                             0.11946            0.09743   \n",
       "finishedsquarefeet6                              0.01261            0.00928   \n",
       "fips                                             0.02526            0.00626   \n",
       "fireplacecnt                                     0.12043            0.09886   \n",
       "fullbathcnt                                      0.56876            0.46617   \n",
       "garagecarcnt                                     0.20686            0.14761   \n",
       "garagetotalsqft                                  0.19635            0.15513   \n",
       "heatingorsystemtypeid                           -0.15156           -0.09618   \n",
       "latitude                                        -0.00938           -0.09822   \n",
       "longitude                                       -0.06314           -0.03212   \n",
       "lotsizesquarefeet                                0.00532           -0.02113   \n",
       "poolcnt                                              nan                nan   \n",
       "poolsizesum                                      0.03868            0.03033   \n",
       "pooltypeid10                                         nan                nan   \n",
       "pooltypeid2                                          nan                nan   \n",
       "pooltypeid7                                          nan                nan   \n",
       "propertylandusetypeid                           -0.00448           -0.03593   \n",
       "rawcensustractandblock                           0.02539            0.00564   \n",
       "regionidcity                                    -0.03319           -0.02390   \n",
       "regionidcounty                                  -0.00494           -0.03927   \n",
       "regionidneighborhood                             0.00247            0.01555   \n",
       "regionidzip                                      0.01374            0.01454   \n",
       "roomcnt                                         -0.03892            0.00196   \n",
       "storytypeid                                          nan                nan   \n",
       "threequarterbathnbr                              0.08520            0.06168   \n",
       "typeconstructiontypeid                           0.00240            0.00126   \n",
       "unitcnt                                         -0.00140            0.00653   \n",
       "yardbuildingsqft17                               0.06187            0.05679   \n",
       "yardbuildingsqft26                              -0.00368           -0.00262   \n",
       "yearbuilt                                        0.27769            0.11840   \n",
       "numberofstories                                  0.06655            0.04622   \n",
       "structuretaxvaluedollarcnt                       1.00000            0.79094   \n",
       "taxvaluedollarcnt                                0.79094            1.00000   \n",
       "assessmentyear                                       nan                nan   \n",
       "landtaxvaluedollarcnt                            0.58222            0.95791   \n",
       "taxamount                                        0.79209            0.98996   \n",
       "taxdelinquencyyear                               0.01280            0.01280   \n",
       "censustractandblock                              0.00253            0.00156   \n",
       "\n",
       "                              assessmentyear  landtaxvaluedollarcnt  \\\n",
       "parcelid                                 nan                0.00401   \n",
       "logerror                                 nan                0.00050   \n",
       "airconditioningtypeid                    nan                0.00791   \n",
       "architecturalstyletypeid                 nan                0.00044   \n",
       "basementsqft                             nan                0.00912   \n",
       "bathroomcnt                              nan                0.34743   \n",
       "bedroomcnt                               nan                0.17895   \n",
       "buildingclasstypeid                      nan               -0.00112   \n",
       "buildingqualitytypeid                    nan                0.18609   \n",
       "calculatedbathnbr                        nan                0.36164   \n",
       "decktypeid                               nan                    nan   \n",
       "finishedfloor1squarefeet                 nan                0.07373   \n",
       "calculatedfinishedsquarefeet             nan                0.44787   \n",
       "finishedsquarefeet12                     nan                0.45967   \n",
       "finishedsquarefeet13                     nan               -0.00027   \n",
       "finishedsquarefeet15                     nan                0.02980   \n",
       "finishedsquarefeet50                     nan                0.07344   \n",
       "finishedsquarefeet6                      nan                0.00650   \n",
       "fips                                     nan               -0.00352   \n",
       "fireplacecnt                             nan                0.07496   \n",
       "fullbathcnt                              nan                0.35283   \n",
       "garagecarcnt                             nan                0.09914   \n",
       "garagetotalsqft                          nan                0.11408   \n",
       "heatingorsystemtypeid                    nan               -0.05676   \n",
       "latitude                                 nan               -0.12584   \n",
       "longitude                                nan               -0.01337   \n",
       "lotsizesquarefeet                        nan               -0.03047   \n",
       "poolcnt                                  nan                    nan   \n",
       "poolsizesum                              nan                0.02217   \n",
       "pooltypeid10                             nan                    nan   \n",
       "pooltypeid2                              nan                    nan   \n",
       "pooltypeid7                              nan                    nan   \n",
       "propertylandusetypeid                    nan               -0.04560   \n",
       "rawcensustractandblock                   nan               -0.00439   \n",
       "regionidcity                             nan               -0.01626   \n",
       "regionidcounty                           nan               -0.04962   \n",
       "regionidneighborhood                     nan                0.01944   \n",
       "regionidzip                              nan                0.01284   \n",
       "roomcnt                                  nan                0.02058   \n",
       "storytypeid                              nan                    nan   \n",
       "threequarterbathnbr                      nan                0.04203   \n",
       "typeconstructiontypeid                   nan                0.00055   \n",
       "unitcnt                                  nan                0.00936   \n",
       "yardbuildingsqft17                       nan                0.04645   \n",
       "yardbuildingsqft26                       nan               -0.00176   \n",
       "yearbuilt                                nan                0.02710   \n",
       "numberofstories                          nan                0.03020   \n",
       "structuretaxvaluedollarcnt               nan                0.58222   \n",
       "taxvaluedollarcnt                        nan                0.95791   \n",
       "assessmentyear                           nan                    nan   \n",
       "landtaxvaluedollarcnt                    nan                1.00000   \n",
       "taxamount                                nan                0.94416   \n",
       "taxdelinquencyyear                       nan                0.01106   \n",
       "censustractandblock                      nan                0.00089   \n",
       "\n",
       "                              taxamount  taxdelinquencyyear  \\\n",
       "parcelid                        0.00222            -0.00237   \n",
       "logerror                        0.00220            -0.01936   \n",
       "airconditioningtypeid          -0.02405             0.00068   \n",
       "architecturalstyletypeid       -0.00017             0.00012   \n",
       "basementsqft                    0.00821             0.00000   \n",
       "bathroomcnt                     0.46596             0.00751   \n",
       "bedroomcnt                      0.24636             0.00277   \n",
       "buildingclasstypeid            -0.01094             0.00156   \n",
       "buildingqualitytypeid           0.25566             0.01097   \n",
       "calculatedbathnbr               0.48306             0.00737   \n",
       "decktypeid                          nan                 nan   \n",
       "finishedfloor1squarefeet        0.08876             0.00271   \n",
       "calculatedfinishedsquarefeet    0.58260             0.00682   \n",
       "finishedsquarefeet12            0.59577             0.00594   \n",
       "finishedsquarefeet13           -0.00032             0.00000   \n",
       "finishedsquarefeet15            0.04713             0.00698   \n",
       "finishedsquarefeet50            0.08824             0.00264   \n",
       "finishedsquarefeet6             0.00935             0.00372   \n",
       "fips                           -0.01699            -0.00544   \n",
       "fireplacecnt                    0.09108             0.00054   \n",
       "fullbathcnt                     0.47400             0.00717   \n",
       "garagecarcnt                    0.14073             0.00117   \n",
       "garagetotalsqft                 0.14348            -0.00112   \n",
       "heatingorsystemtypeid          -0.10453            -0.00553   \n",
       "latitude                       -0.06751            -0.00161   \n",
       "longitude                      -0.04124             0.00320   \n",
       "lotsizesquarefeet              -0.01922             0.00043   \n",
       "poolcnt                             nan                 nan   \n",
       "poolsizesum                     0.02743             0.00005   \n",
       "pooltypeid10                        nan                 nan   \n",
       "pooltypeid2                         nan                 nan   \n",
       "pooltypeid7                         nan                 nan   \n",
       "propertylandusetypeid          -0.04077             0.00218   \n",
       "rawcensustractandblock         -0.01732            -0.00553   \n",
       "regionidcity                   -0.02772            -0.00476   \n",
       "regionidcounty                 -0.01024            -0.00112   \n",
       "regionidneighborhood            0.01586            -0.00249   \n",
       "regionidzip                     0.01512             0.00206   \n",
       "roomcnt                        -0.02765            -0.00162   \n",
       "storytypeid                         nan                 nan   \n",
       "threequarterbathnbr             0.05741             0.00250   \n",
       "typeconstructiontypeid          0.00104            -0.00004   \n",
       "unitcnt                         0.00758            -0.00106   \n",
       "yardbuildingsqft17              0.05152             0.00092   \n",
       "yardbuildingsqft26             -0.00298             0.00075   \n",
       "yearbuilt                       0.12384             0.00917   \n",
       "numberofstories                 0.04503             0.00159   \n",
       "structuretaxvaluedollarcnt      0.79209             0.01280   \n",
       "taxvaluedollarcnt               0.98996             0.01280   \n",
       "assessmentyear                      nan                 nan   \n",
       "landtaxvaluedollarcnt           0.94416             0.01106   \n",
       "taxamount                       1.00000             0.01285   \n",
       "taxdelinquencyyear              0.01285             1.00000   \n",
       "censustractandblock            -0.00173            -0.00074   \n",
       "\n",
       "                              censustractandblock  \n",
       "parcelid                                  0.06192  \n",
       "logerror                                  0.00455  \n",
       "airconditioningtypeid                     0.01938  \n",
       "architecturalstyletypeid                  0.00000  \n",
       "basementsqft                              0.00000  \n",
       "bathroomcnt                               0.00119  \n",
       "bedroomcnt                                0.00780  \n",
       "buildingclasstypeid                       0.00006  \n",
       "buildingqualitytypeid                    -0.00128  \n",
       "calculatedbathnbr                         0.00287  \n",
       "decktypeid                                    nan  \n",
       "finishedfloor1squarefeet                 -0.00020  \n",
       "calculatedfinishedsquarefeet              0.00675  \n",
       "finishedsquarefeet12                      0.00907  \n",
       "finishedsquarefeet13                      0.00000  \n",
       "finishedsquarefeet15                     -0.00022  \n",
       "finishedsquarefeet50                     -0.00018  \n",
       "finishedsquarefeet6                       0.00000  \n",
       "fips                                      0.13202  \n",
       "fireplacecnt                              0.00309  \n",
       "fullbathcnt                              -0.00619  \n",
       "garagecarcnt                              0.00515  \n",
       "garagetotalsqft                           0.00204  \n",
       "heatingorsystemtypeid                     0.00999  \n",
       "latitude                                 -0.01067  \n",
       "longitude                                -0.04299  \n",
       "lotsizesquarefeet                        -0.01079  \n",
       "poolcnt                                       nan  \n",
       "poolsizesum                              -0.00000  \n",
       "pooltypeid10                                  nan  \n",
       "pooltypeid2                                   nan  \n",
       "pooltypeid7                                   nan  \n",
       "propertylandusetypeid                     0.00679  \n",
       "rawcensustractandblock                    0.13206  \n",
       "regionidcity                             -0.00590  \n",
       "regionidcounty                           -0.07855  \n",
       "regionidneighborhood                      0.00765  \n",
       "regionidzip                               0.00658  \n",
       "roomcnt                                   0.09307  \n",
       "storytypeid                                   nan  \n",
       "threequarterbathnbr                      -0.00212  \n",
       "typeconstructiontypeid                    0.00000  \n",
       "unitcnt                                   0.00148  \n",
       "yardbuildingsqft17                        0.00005  \n",
       "yardbuildingsqft26                        0.00000  \n",
       "yearbuilt                                 0.03233  \n",
       "numberofstories                           0.00519  \n",
       "structuretaxvaluedollarcnt                0.00253  \n",
       "taxvaluedollarcnt                         0.00156  \n",
       "assessmentyear                                nan  \n",
       "landtaxvaluedollarcnt                     0.00089  \n",
       "taxamount                                -0.00173  \n",
       "taxdelinquencyyear                       -0.00074  \n",
       "censustractandblock                       1.00000  \n",
       "\n",
       "[54 rows x 54 columns]"
      ],
      "text/html": "<div>\n<style scoped>\n    .dataframe tbody tr th:only-of-type {\n        vertical-align: middle;\n    }\n\n    .dataframe tbody tr th {\n        vertical-align: top;\n    }\n\n    .dataframe thead th {\n        text-align: right;\n    }\n</style>\n<table border=\"1\" class=\"dataframe\">\n  <thead>\n    <tr style=\"text-align: right;\">\n      <th></th>\n      <th>parcelid</th>\n      <th>logerror</th>\n      <th>airconditioningtypeid</th>\n      <th>architecturalstyletypeid</th>\n      <th>basementsqft</th>\n      <th>bathroomcnt</th>\n      <th>bedroomcnt</th>\n      <th>buildingclasstypeid</th>\n      <th>buildingqualitytypeid</th>\n      <th>calculatedbathnbr</th>\n      <th>...</th>\n      <th>yardbuildingsqft26</th>\n      <th>yearbuilt</th>\n      <th>numberofstories</th>\n      <th>structuretaxvaluedollarcnt</th>\n      <th>taxvaluedollarcnt</th>\n      <th>assessmentyear</th>\n      <th>landtaxvaluedollarcnt</th>\n      <th>taxamount</th>\n      <th>taxdelinquencyyear</th>\n      <th>censustractandblock</th>\n    </tr>\n  </thead>\n  <tbody>\n    <tr>\n      <th>parcelid</th>\n      <td>1.00000</td>\n      <td>0.01541</td>\n      <td>0.09713</td>\n      <td>0.00021</td>\n      <td>0.00025</td>\n      <td>0.00323</td>\n      <td>0.00681</td>\n      <td>-0.00040</td>\n      <td>-0.03431</td>\n      <td>0.01455</td>\n      <td>...</td>\n      <td>0.00011</td>\n      <td>0.13378</td>\n      <td>0.01879</td>\n      <td>0.02917</td>\n      <td>0.01250</td>\n      <td>nan</td>\n      <td>0.00401</td>\n      <td>0.00222</td>\n      <td>-0.00237</td>\n      <td>0.06192</td>\n    </tr>\n    <tr>\n      <th>logerror</th>\n      <td>0.01541</td>\n      <td>1.00000</td>\n      <td>0.00431</td>\n      <td>-0.00034</td>\n      <td>0.00999</td>\n      <td>0.02579</td>\n      <td>0.03160</td>\n      <td>0.00878</td>\n      <td>-0.00982</td>\n      <td>0.02879</td>\n      <td>...</td>\n      <td>-0.00069</td>\n      <td>0.00483</td>\n      <td>0.00414</td>\n      <td>0.00840</td>\n      <td>0.00342</td>\n      <td>nan</td>\n      <td>0.00050</td>\n      <td>0.00220</td>\n      <td>-0.01936</td>\n      <td>0.00455</td>\n    </tr>\n    <tr>\n      <th>airconditioningtypeid</th>\n      <td>0.09713</td>\n      <td>0.00431</td>\n      <td>1.00000</td>\n      <td>0.00172</td>\n      <td>-0.00000</td>\n      <td>-0.02233</td>\n      <td>0.04979</td>\n      <td>-0.00000</td>\n      <td>-0.09628</td>\n      <td>-0.02204</td>\n      <td>...</td>\n      <td>-0.00000</td>\n      <td>-0.03418</td>\n      <td>0.09690</td>\n      <td>-0.04103</td>\n      <td>-0.00845</td>\n      <td>nan</td>\n      <td>0.00791</td>\n      <td>-0.02405</td>\n      <td>0.00068</td>\n      <td>0.01938</td>\n    </tr>\n    <tr>\n      <th>architecturalstyletypeid</th>\n      <td>0.00021</td>\n      <td>-0.00034</td>\n      <td>0.00172</td>\n      <td>1.00000</td>\n      <td>-0.00000</td>\n      <td>-0.00014</td>\n      <td>-0.00011</td>\n      <td>-0.00000</td>\n      <td>-0.00000</td>\n      <td>-0.00014</td>\n      <td>...</td>\n      <td>-0.00000</td>\n      <td>-0.00146</td>\n      <td>-0.00363</td>\n      <td>-0.00081</td>\n      <td>0.00005</td>\n      <td>nan</td>\n      <td>0.00044</td>\n      <td>-0.00017</td>\n      <td>0.00012</td>\n      <td>0.00000</td>\n    </tr>\n    <tr>\n      <th>basementsqft</th>\n      <td>0.00025</td>\n      <td>0.00999</td>\n      <td>-0.00000</td>\n      <td>-0.00000</td>\n      <td>1.00000</td>\n      <td>0.02391</td>\n      <td>0.01213</td>\n      <td>0.00000</td>\n      <td>0.00000</td>\n      <td>0.02442</td>\n      <td>...</td>\n      <td>-0.02811</td>\n      <td>0.01121</td>\n      <td>0.00524</td>\n      <td>0.00556</td>\n      <td>0.00883</td>\n      <td>nan</td>\n      <td>0.00912</td>\n      <td>0.00821</td>\n      <td>0.00000</td>\n      <td>0.00000</td>\n    </tr>\n    <tr>\n      <th>bathroomcnt</th>\n      <td>0.00323</td>\n      <td>0.02579</td>\n      <td>-0.02233</td>\n      <td>-0.00014</td>\n      <td>0.02391</td>\n      <td>1.00000</td>\n      <td>0.63548</td>\n      <td>0.00000</td>\n      <td>0.43053</td>\n      <td>0.97899</td>\n      <td>...</td>\n      <td>0.00144</td>\n      <td>0.37024</td>\n      <td>0.12749</td>\n      <td>0.56492</td>\n      <td>0.46101</td>\n      <td>nan</td>\n      <td>0.34743</td>\n      <td>0.46596</td>\n      <td>0.00751</td>\n      <td>0.00119</td>\n    </tr>\n    <tr>\n      <th>bedroomcnt</th>\n      <td>0.00681</td>\n      <td>0.03160</td>\n      <td>0.04979</td>\n      <td>-0.00011</td>\n      <td>0.01213</td>\n      <td>0.63548</td>\n      <td>1.00000</td>\n      <td>-0.00000</td>\n      <td>0.08758</td>\n      <td>0.60120</td>\n      <td>...</td>\n      <td>-0.00354</td>\n      <td>0.04734</td>\n      <td>0.06785</td>\n      <td>0.29588</td>\n      <td>0.23932</td>\n      <td>nan</td>\n      <td>0.17895</td>\n      <td>0.24636</td>\n      <td>0.00277</td>\n      <td>0.00780</td>\n    </tr>\n    <tr>\n      <th>buildingclasstypeid</th>\n      <td>-0.00040</td>\n      <td>0.00878</td>\n      <td>-0.00000</td>\n      <td>-0.00000</td>\n      <td>0.00000</td>\n      <td>0.00000</td>\n      <td>-0.00000</td>\n      <td>1.00000</td>\n      <td>-0.00286</td>\n      <td>-0.00000</td>\n      <td>...</td>\n      <td>0.00000</td>\n      <td>0.00226</td>\n      <td>0.00191</td>\n      <td>-0.01961</td>\n      <td>-0.00775</td>\n      <td>nan</td>\n      <td>-0.00112</td>\n      <td>-0.01094</td>\n      <td>0.00156</td>\n      <td>0.00006</td>\n    </tr>\n    <tr>\n      <th>buildingqualitytypeid</th>\n      <td>-0.03431</td>\n      <td>-0.00982</td>\n      <td>-0.09628</td>\n      <td>-0.00000</td>\n      <td>0.00000</td>\n      <td>0.43053</td>\n      <td>0.08758</td>\n      <td>-0.00286</td>\n      <td>1.00000</td>\n      <td>0.43708</td>\n      <td>...</td>\n      <td>0.00000</td>\n      <td>0.47629</td>\n      <td>0.00022</td>\n      <td>0.31770</td>\n      <td>0.25228</td>\n      <td>nan</td>\n      <td>0.18609</td>\n      <td>0.25566</td>\n      <td>0.01097</td>\n      <td>-0.00128</td>\n    </tr>\n    <tr>\n      <th>calculatedbathnbr</th>\n      <td>0.01455</td>\n      <td>0.02879</td>\n      <td>-0.02204</td>\n      <td>-0.00014</td>\n      <td>0.02442</td>\n      <td>0.97899</td>\n      <td>0.60120</td>\n      <td>-0.00000</td>\n      <td>0.43708</td>\n      <td>1.00000</td>\n      <td>...</td>\n      <td>0.00147</td>\n      <td>0.37261</td>\n      <td>0.14067</td>\n      <td>0.58341</td>\n      <td>0.47798</td>\n      <td>nan</td>\n      <td>0.36164</td>\n      <td>0.48306</td>\n      <td>0.00737</td>\n      <td>0.00287</td>\n    </tr>\n    <tr>\n      <th>decktypeid</th>\n      <td>nan</td>\n      <td>nan</td>\n      <td>nan</td>\n      <td>nan</td>\n      <td>nan</td>\n      <td>nan</td>\n      <td>nan</td>\n      <td>nan</td>\n      <td>nan</td>\n      <td>nan</td>\n      <td>...</td>\n      <td>nan</td>\n      <td>nan</td>\n      <td>nan</td>\n      <td>nan</td>\n      <td>nan</td>\n      <td>nan</td>\n      <td>nan</td>\n      <td>nan</td>\n      <td>nan</td>\n      <td>nan</td>\n    </tr>\n    <tr>\n      <th>finishedfloor1squarefeet</th>\n      <td>-0.00326</td>\n      <td>-0.00318</td>\n      <td>0.00000</td>\n      <td>0.00000</td>\n      <td>0.03631</td>\n      <td>0.11864</td>\n      <td>0.10728</td>\n      <td>-0.00000</td>\n      <td>-0.00000</td>\n      <td>0.12316</td>\n      <td>...</td>\n      <td>0.03807</td>\n      <td>0.01218</td>\n      <td>-0.14118</td>\n      <td>0.12150</td>\n      <td>0.09837</td>\n      <td>nan</td>\n      <td>0.07373</td>\n      <td>0.08876</td>\n      <td>0.00271</td>\n      <td>-0.00020</td>\n    </tr>\n    <tr>\n      <th>calculatedfinishedsquarefeet</th>\n      <td>0.02493</td>\n      <td>0.04023</td>\n      <td>0.03279</td>\n      <td>-0.00000</td>\n      <td>0.00965</td>\n      <td>0.76770</td>\n      <td>0.62580</td>\n      <td>-0.11525</td>\n      <td>0.31706</td>\n      <td>0.79407</td>\n      <td>...</td>\n      <td>0.00181</td>\n      <td>0.21708</td>\n      <td>0.14504</td>\n      <td>0.68647</td>\n      <td>0.57918</td>\n      <td>nan</td>\n      <td>0.44787</td>\n      <td>0.58260</td>\n      <td>0.00682</td>\n      <td>0.00675</td>\n    </tr>\n    <tr>\n      <th>finishedsquarefeet12</th>\n      <td>0.03372</td>\n      <td>0.04362</td>\n      <td>0.03208</td>\n      <td>-0.00000</td>\n      <td>0.01008</td>\n      <td>0.74958</td>\n      <td>0.57984</td>\n      <td>0.00000</td>\n      <td>0.34931</td>\n      <td>0.76671</td>\n      <td>...</td>\n      <td>0.00189</td>\n      <td>0.24790</td>\n      <td>0.14394</td>\n      <td>0.70315</td>\n      <td>0.59394</td>\n      <td>nan</td>\n      <td>0.45967</td>\n      <td>0.59577</td>\n      <td>0.00594</td>\n      <td>0.00907</td>\n    </tr>\n    <tr>\n      <th>finishedsquarefeet13</th>\n      <td>0.00018</td>\n      <td>-0.00301</td>\n      <td>-0.00000</td>\n      <td>-0.00000</td>\n      <td>0.00000</td>\n      <td>-0.00402</td>\n      <td>-0.00258</td>\n      <td>0.00000</td>\n      <td>0.00000</td>\n      <td>0.00065</td>\n      <td>...</td>\n      <td>0.00000</td>\n      <td>-0.00115</td>\n      <td>0.00000</td>\n      <td>0.00203</td>\n      <td>-0.00017</td>\n      <td>nan</td>\n      <td>-0.00027</td>\n      <td>-0.00032</td>\n      <td>0.00000</td>\n      <td>0.00000</td>\n    </tr>\n    <tr>\n      <th>finishedsquarefeet15</th>\n      <td>-0.00560</td>\n      <td>-0.01010</td>\n      <td>0.00347</td>\n      <td>-0.00000</td>\n      <td>0.00000</td>\n      <td>0.15126</td>\n      <td>0.18424</td>\n      <td>-0.46852</td>\n      <td>0.04469</td>\n      <td>0.15936</td>\n      <td>...</td>\n      <td>0.00000</td>\n      <td>0.03090</td>\n      <td>-0.00132</td>\n      <td>0.06045</td>\n      <td>0.04376</td>\n      <td>nan</td>\n      <td>0.02980</td>\n      <td>0.04713</td>\n      <td>0.00698</td>\n      <td>-0.00022</td>\n    </tr>\n    <tr>\n      <th>finishedsquarefeet50</th>\n      <td>-0.00326</td>\n      <td>-0.00450</td>\n      <td>-0.00000</td>\n      <td>-0.00000</td>\n      <td>0.03401</td>\n      <td>0.11710</td>\n      <td>0.10175</td>\n      <td>0.00000</td>\n      <td>0.00000</td>\n      <td>0.12140</td>\n      <td>...</td>\n      <td>0.02196</td>\n      <td>0.01033</td>\n      <td>-0.13209</td>\n      <td>0.11946</td>\n      <td>0.09743</td>\n      <td>nan</td>\n      <td>0.07344</td>\n      <td>0.08824</td>\n      <td>0.00264</td>\n      <td>-0.00018</td>\n    </tr>\n    <tr>\n      <th>finishedsquarefeet6</th>\n      <td>0.00035</td>\n      <td>0.01088</td>\n      <td>0.00814</td>\n      <td>0.00000</td>\n      <td>0.00000</td>\n      <td>-0.01968</td>\n      <td>-0.03152</td>\n      <td>0.00000</td>\n      <td>0.00000</td>\n      <td>0.03109</td>\n      <td>...</td>\n      <td>0.00000</td>\n      <td>0.02642</td>\n      <td>0.07272</td>\n      <td>0.01261</td>\n      <td>0.00928</td>\n      <td>nan</td>\n      <td>0.00650</td>\n      <td>0.00935</td>\n      <td>0.00372</td>\n      <td>0.00000</td>\n    </tr>\n    <tr>\n      <th>fips</th>\n      <td>0.45840</td>\n      <td>0.00641</td>\n      <td>0.14634</td>\n      <td>0.00000</td>\n      <td>0.00000</td>\n      <td>0.01604</td>\n      <td>0.03514</td>\n      <td>-0.00000</td>\n      <td>0.00000</td>\n      <td>0.02912</td>\n      <td>...</td>\n      <td>0.00000</td>\n      <td>0.23519</td>\n      <td>0.03885</td>\n      <td>0.02526</td>\n      <td>0.00626</td>\n      <td>nan</td>\n      <td>-0.00352</td>\n      <td>-0.01699</td>\n      <td>-0.00544</td>\n      <td>0.13202</td>\n    </tr>\n    <tr>\n      <th>fireplacecnt</th>\n      <td>0.00893</td>\n      <td>0.00730</td>\n      <td>0.01877</td>\n      <td>-0.00000</td>\n      <td>0.04702</td>\n      <td>0.12124</td>\n      <td>0.05934</td>\n      <td>0.00000</td>\n      <td>0.00000</td>\n      <td>0.12589</td>\n      <td>...</td>\n      <td>0.00512</td>\n      <td>0.04597</td>\n      <td>0.11574</td>\n      <td>0.12043</td>\n      <td>0.09886</td>\n      <td>nan</td>\n      <td>0.07496</td>\n      <td>0.09108</td>\n      <td>0.00054</td>\n      <td>0.00309</td>\n    </tr>\n    <tr>\n      <th>fullbathcnt</th>\n      <td>-0.02412</td>\n      <td>0.02663</td>\n      <td>-0.05059</td>\n      <td>0.00034</td>\n      <td>0.02522</td>\n      <td>0.96382</td>\n      <td>0.59597</td>\n      <td>0.00000</td>\n      <td>0.44312</td>\n      <td>0.98450</td>\n      <td>...</td>\n      <td>0.00136</td>\n      <td>0.32765</td>\n      <td>0.09625</td>\n      <td>0.56876</td>\n      <td>0.46617</td>\n      <td>nan</td>\n      <td>0.35283</td>\n      <td>0.47400</td>\n      <td>0.00717</td>\n      <td>-0.00619</td>\n    </tr>\n    <tr>\n      <th>garagecarcnt</th>\n      <td>0.00825</td>\n      <td>0.01730</td>\n      <td>0.07654</td>\n      <td>0.00377</td>\n      <td>0.02236</td>\n      <td>0.24824</td>\n      <td>0.22685</td>\n      <td>-0.00000</td>\n      <td>-0.00001</td>\n      <td>0.22788</td>\n      <td>...</td>\n      <td>-0.00023</td>\n      <td>0.08207</td>\n      <td>0.08250</td>\n      <td>0.20686</td>\n      <td>0.14761</td>\n      <td>nan</td>\n      <td>0.09914</td>\n      <td>0.14073</td>\n      <td>0.00117</td>\n      <td>0.00515</td>\n    </tr>\n    <tr>\n      <th>garagetotalsqft</th>\n      <td>-0.01317</td>\n      <td>0.02089</td>\n      <td>0.14641</td>\n      <td>-0.00023</td>\n      <td>0.01296</td>\n      <td>0.22633</td>\n      <td>0.31184</td>\n      <td>0.00000</td>\n      <td>0.00006</td>\n      <td>0.21968</td>\n      <td>...</td>\n      <td>0.00744</td>\n      <td>-0.03952</td>\n      <td>0.01978</td>\n      <td>0.19635</td>\n      <td>0.15513</td>\n      <td>nan</td>\n      <td>0.11408</td>\n      <td>0.14348</td>\n      <td>-0.00112</td>\n      <td>0.00204</td>\n    </tr>\n    <tr>\n      <th>heatingorsystemtypeid</th>\n      <td>0.08023</td>\n      <td>-0.00457</td>\n      <td>0.08829</td>\n      <td>0.00454</td>\n      <td>-0.00000</td>\n      <td>-0.25146</td>\n      <td>-0.11990</td>\n      <td>0.00106</td>\n      <td>-0.39897</td>\n      <td>-0.25641</td>\n      <td>...</td>\n      <td>-0.00000</td>\n      <td>-0.24280</td>\n      <td>-0.04749</td>\n      <td>-0.15156</td>\n      <td>-0.09618</td>\n      <td>nan</td>\n      <td>-0.05676</td>\n      <td>-0.10453</td>\n      <td>-0.00553</td>\n      <td>0.00999</td>\n    </tr>\n    <tr>\n      <th>latitude</th>\n      <td>-0.16476</td>\n      <td>-0.01171</td>\n      <td>-0.23202</td>\n      <td>0.00224</td>\n      <td>-0.00277</td>\n      <td>0.02662</td>\n      <td>0.07000</td>\n      <td>-0.00194</td>\n      <td>0.09573</td>\n      <td>0.02072</td>\n      <td>...</td>\n      <td>0.00138</td>\n      <td>-0.00158</td>\n      <td>0.01486</td>\n      <td>-0.00938</td>\n      <td>-0.09822</td>\n      <td>nan</td>\n      <td>-0.12584</td>\n      <td>-0.06751</td>\n      <td>-0.00161</td>\n      <td>-0.01067</td>\n    </tr>\n    <tr>\n      <th>longitude</th>\n      <td>-0.01474</td>\n      <td>0.01586</td>\n      <td>0.18285</td>\n      <td>-0.00069</td>\n      <td>0.00448</td>\n      <td>-0.02375</td>\n      <td>-0.00828</td>\n      <td>-0.00118</td>\n      <td>-0.09830</td>\n      <td>-0.02569</td>\n      <td>...</td>\n      <td>0.00413</td>\n      <td>0.06695</td>\n      <td>-0.03366</td>\n      <td>-0.06314</td>\n      <td>-0.03212</td>\n      <td>nan</td>\n      <td>-0.01337</td>\n      <td>-0.04124</td>\n      <td>0.00320</td>\n      <td>-0.04299</td>\n    </tr>\n    <tr>\n      <th>lotsizesquarefeet</th>\n      <td>-0.04841</td>\n      <td>0.01031</td>\n      <td>-0.06237</td>\n      <td>0.00047</td>\n      <td>0.00119</td>\n      <td>0.00239</td>\n      <td>-0.10411</td>\n      <td>-0.00272</td>\n      <td>0.10870</td>\n      <td>0.00187</td>\n      <td>...</td>\n      <td>0.00036</td>\n      <td>0.10735</td>\n      <td>0.00181</td>\n      <td>0.00532</td>\n      <td>-0.02113</td>\n      <td>nan</td>\n      <td>-0.03047</td>\n      <td>-0.01922</td>\n      <td>0.00043</td>\n      <td>-0.01079</td>\n    </tr>\n    <tr>\n      <th>poolcnt</th>\n      <td>nan</td>\n      <td>nan</td>\n      <td>nan</td>\n      <td>nan</td>\n      <td>nan</td>\n      <td>nan</td>\n      <td>nan</td>\n      <td>nan</td>\n      <td>nan</td>\n      <td>nan</td>\n      <td>...</td>\n      <td>nan</td>\n      <td>nan</td>\n      <td>nan</td>\n      <td>nan</td>\n      <td>nan</td>\n      <td>nan</td>\n      <td>nan</td>\n      <td>nan</td>\n      <td>nan</td>\n      <td>nan</td>\n    </tr>\n    <tr>\n      <th>poolsizesum</th>\n      <td>0.00002</td>\n      <td>0.00112</td>\n      <td>-0.00000</td>\n      <td>-0.00000</td>\n      <td>-0.01837</td>\n      <td>0.03130</td>\n      <td>0.01394</td>\n      <td>0.00000</td>\n      <td>0.00000</td>\n      <td>0.03184</td>\n      <td>...</td>\n      <td>-0.03100</td>\n      <td>0.00349</td>\n      <td>0.01704</td>\n      <td>0.03868</td>\n      <td>0.03033</td>\n      <td>nan</td>\n      <td>0.02217</td>\n      <td>0.02743</td>\n      <td>0.00005</td>\n      <td>-0.00000</td>\n    </tr>\n    <tr>\n      <th>pooltypeid10</th>\n      <td>nan</td>\n      <td>nan</td>\n      <td>nan</td>\n      <td>nan</td>\n      <td>nan</td>\n      <td>nan</td>\n      <td>nan</td>\n      <td>nan</td>\n      <td>nan</td>\n      <td>nan</td>\n      <td>...</td>\n      <td>nan</td>\n      <td>nan</td>\n      <td>nan</td>\n      <td>nan</td>\n      <td>nan</td>\n      <td>nan</td>\n      <td>nan</td>\n      <td>nan</td>\n      <td>nan</td>\n      <td>nan</td>\n    </tr>\n    <tr>\n      <th>pooltypeid2</th>\n      <td>nan</td>\n      <td>nan</td>\n      <td>nan</td>\n      <td>nan</td>\n      <td>nan</td>\n      <td>nan</td>\n      <td>nan</td>\n      <td>nan</td>\n      <td>nan</td>\n      <td>nan</td>\n      <td>...</td>\n      <td>nan</td>\n      <td>nan</td>\n      <td>nan</td>\n      <td>nan</td>\n      <td>nan</td>\n      <td>nan</td>\n      <td>nan</td>\n      <td>nan</td>\n      <td>nan</td>\n      <td>nan</td>\n    </tr>\n    <tr>\n      <th>pooltypeid7</th>\n      <td>nan</td>\n      <td>nan</td>\n      <td>nan</td>\n      <td>nan</td>\n      <td>nan</td>\n      <td>nan</td>\n      <td>nan</td>\n      <td>nan</td>\n      <td>nan</td>\n      <td>nan</td>\n      <td>...</td>\n      <td>nan</td>\n      <td>nan</td>\n      <td>nan</td>\n      <td>nan</td>\n      <td>nan</td>\n      <td>nan</td>\n      <td>nan</td>\n      <td>nan</td>\n      <td>nan</td>\n      <td>nan</td>\n    </tr>\n    <tr>\n      <th>propertylandusetypeid</th>\n      <td>0.03316</td>\n      <td>-0.00567</td>\n      <td>-0.07305</td>\n      <td>0.00179</td>\n      <td>0.00002</td>\n      <td>-0.04505</td>\n      <td>-0.26885</td>\n      <td>0.00000</td>\n      <td>0.27683</td>\n      <td>-0.09225</td>\n      <td>...</td>\n      <td>-0.00167</td>\n      <td>0.34773</td>\n      <td>0.00667</td>\n      <td>-0.00448</td>\n      <td>-0.03593</td>\n      <td>nan</td>\n      <td>-0.04560</td>\n      <td>-0.04077</td>\n      <td>0.00218</td>\n      <td>0.00679</td>\n    </tr>\n    <tr>\n      <th>rawcensustractandblock</th>\n      <td>0.45805</td>\n      <td>0.00633</td>\n      <td>0.14452</td>\n      <td>0.00000</td>\n      <td>0.00000</td>\n      <td>0.01628</td>\n      <td>0.03582</td>\n      <td>-0.00002</td>\n      <td>0.00061</td>\n      <td>0.02933</td>\n      <td>...</td>\n      <td>0.00000</td>\n      <td>0.23659</td>\n      <td>0.03908</td>\n      <td>0.02539</td>\n      <td>0.00564</td>\n      <td>nan</td>\n      <td>-0.00439</td>\n      <td>-0.01732</td>\n      <td>-0.00553</td>\n      <td>0.13206</td>\n    </tr>\n    <tr>\n      <th>regionidcity</th>\n      <td>-0.01182</td>\n      <td>0.00106</td>\n      <td>-0.01717</td>\n      <td>-0.00169</td>\n      <td>0.00118</td>\n      <td>-0.03619</td>\n      <td>-0.02181</td>\n      <td>0.00200</td>\n      <td>-0.07712</td>\n      <td>-0.03709</td>\n      <td>...</td>\n      <td>-0.00091</td>\n      <td>-0.05367</td>\n      <td>-0.00287</td>\n      <td>-0.03319</td>\n      <td>-0.02390</td>\n      <td>nan</td>\n      <td>-0.01626</td>\n      <td>-0.02772</td>\n      <td>-0.00476</td>\n      <td>-0.00590</td>\n    </tr>\n    <tr>\n      <th>regionidcounty</th>\n      <td>-0.35617</td>\n      <td>-0.01648</td>\n      <td>-0.31254</td>\n      <td>-0.00000</td>\n      <td>0.00000</td>\n      <td>-0.02464</td>\n      <td>-0.01181</td>\n      <td>0.00000</td>\n      <td>0.00000</td>\n      <td>-0.03831</td>\n      <td>...</td>\n      <td>0.00000</td>\n      <td>-0.28464</td>\n      <td>0.01416</td>\n      <td>-0.00494</td>\n      <td>-0.03927</td>\n      <td>nan</td>\n      <td>-0.04962</td>\n      <td>-0.01024</td>\n      <td>-0.00112</td>\n      <td>-0.07855</td>\n    </tr>\n    <tr>\n      <th>regionidneighborhood</th>\n      <td>0.08196</td>\n      <td>-0.00407</td>\n      <td>0.03660</td>\n      <td>-0.00116</td>\n      <td>-0.00026</td>\n      <td>-0.02294</td>\n      <td>-0.01654</td>\n      <td>-0.00058</td>\n      <td>-0.02779</td>\n      <td>-0.02091</td>\n      <td>...</td>\n      <td>-0.00335</td>\n      <td>-0.02502</td>\n      <td>-0.01189</td>\n      <td>0.00247</td>\n      <td>0.01555</td>\n      <td>nan</td>\n      <td>0.01944</td>\n      <td>0.01586</td>\n      <td>-0.00249</td>\n      <td>0.00765</td>\n    </tr>\n    <tr>\n      <th>regionidzip</th>\n      <td>0.02976</td>\n      <td>-0.00129</td>\n      <td>0.01368</td>\n      <td>-0.00001</td>\n      <td>-0.00081</td>\n      <td>0.01815</td>\n      <td>0.01518</td>\n      <td>-0.00003</td>\n      <td>0.01726</td>\n      <td>0.01949</td>\n      <td>...</td>\n      <td>0.00008</td>\n      <td>0.04553</td>\n      <td>-0.00047</td>\n      <td>0.01374</td>\n      <td>0.01454</td>\n      <td>nan</td>\n      <td>0.01284</td>\n      <td>0.01512</td>\n      <td>0.00206</td>\n      <td>0.00658</td>\n    </tr>\n    <tr>\n      <th>roomcnt</th>\n      <td>0.33694</td>\n      <td>0.01455</td>\n      <td>0.35540</td>\n      <td>-0.00094</td>\n      <td>0.01010</td>\n      <td>0.03774</td>\n      <td>0.16696</td>\n      <td>-0.00000</td>\n      <td>-0.00000</td>\n      <td>0.02980</td>\n      <td>...</td>\n      <td>-0.00016</td>\n      <td>0.07551</td>\n      <td>0.07337</td>\n      <td>-0.03892</td>\n      <td>0.00196</td>\n      <td>nan</td>\n      <td>0.02058</td>\n      <td>-0.02765</td>\n      <td>-0.00162</td>\n      <td>0.09307</td>\n    </tr>\n    <tr>\n      <th>storytypeid</th>\n      <td>nan</td>\n      <td>nan</td>\n      <td>nan</td>\n      <td>nan</td>\n      <td>nan</td>\n      <td>nan</td>\n      <td>nan</td>\n      <td>nan</td>\n      <td>nan</td>\n      <td>nan</td>\n      <td>...</td>\n      <td>nan</td>\n      <td>nan</td>\n      <td>nan</td>\n      <td>nan</td>\n      <td>nan</td>\n      <td>nan</td>\n      <td>nan</td>\n      <td>nan</td>\n      <td>nan</td>\n      <td>nan</td>\n    </tr>\n    <tr>\n      <th>threequarterbathnbr</th>\n      <td>-0.00680</td>\n      <td>0.00585</td>\n      <td>-0.00164</td>\n      <td>0.00021</td>\n      <td>0.00020</td>\n      <td>0.06527</td>\n      <td>0.02636</td>\n      <td>-0.00000</td>\n      <td>-0.00000</td>\n      <td>0.06667</td>\n      <td>...</td>\n      <td>-0.00006</td>\n      <td>0.01299</td>\n      <td>-0.02128</td>\n      <td>0.08520</td>\n      <td>0.06168</td>\n      <td>nan</td>\n      <td>0.04203</td>\n      <td>0.05741</td>\n      <td>0.00250</td>\n      <td>-0.00212</td>\n    </tr>\n    <tr>\n      <th>typeconstructiontypeid</th>\n      <td>0.00026</td>\n      <td>-0.00003</td>\n      <td>-0.00351</td>\n      <td>-0.00473</td>\n      <td>0.00000</td>\n      <td>0.00191</td>\n      <td>0.00137</td>\n      <td>0.00000</td>\n      <td>0.00000</td>\n      <td>0.00195</td>\n      <td>...</td>\n      <td>0.00000</td>\n      <td>0.00242</td>\n      <td>0.00259</td>\n      <td>0.00240</td>\n      <td>0.00126</td>\n      <td>nan</td>\n      <td>0.00055</td>\n      <td>0.00104</td>\n      <td>-0.00004</td>\n      <td>0.00000</td>\n    </tr>\n    <tr>\n      <th>unitcnt</th>\n      <td>0.00931</td>\n      <td>0.00156</td>\n      <td>0.01754</td>\n      <td>0.00000</td>\n      <td>-0.00000</td>\n      <td>0.05408</td>\n      <td>0.08624</td>\n      <td>0.01292</td>\n      <td>-0.07332</td>\n      <td>0.08253</td>\n      <td>...</td>\n      <td>-0.00043</td>\n      <td>-0.05973</td>\n      <td>0.01715</td>\n      <td>-0.00140</td>\n      <td>0.00653</td>\n      <td>nan</td>\n      <td>0.00936</td>\n      <td>0.00758</td>\n      <td>-0.00106</td>\n      <td>0.00148</td>\n    </tr>\n    <tr>\n      <th>yardbuildingsqft17</th>\n      <td>-0.00111</td>\n      <td>-0.00623</td>\n      <td>0.00000</td>\n      <td>0.00000</td>\n      <td>0.00044</td>\n      <td>0.04569</td>\n      <td>0.04012</td>\n      <td>-0.00000</td>\n      <td>-0.00000</td>\n      <td>0.04709</td>\n      <td>...</td>\n      <td>-0.02690</td>\n      <td>0.00269</td>\n      <td>0.00342</td>\n      <td>0.06187</td>\n      <td>0.05679</td>\n      <td>nan</td>\n      <td>0.04645</td>\n      <td>0.05152</td>\n      <td>0.00092</td>\n      <td>0.00005</td>\n    </tr>\n    <tr>\n      <th>yardbuildingsqft26</th>\n      <td>0.00011</td>\n      <td>-0.00069</td>\n      <td>-0.00000</td>\n      <td>-0.00000</td>\n      <td>-0.02811</td>\n      <td>0.00144</td>\n      <td>-0.00354</td>\n      <td>0.00000</td>\n      <td>0.00000</td>\n      <td>0.00147</td>\n      <td>...</td>\n      <td>1.00000</td>\n      <td>0.00122</td>\n      <td>-0.01527</td>\n      <td>-0.00368</td>\n      <td>-0.00262</td>\n      <td>nan</td>\n      <td>-0.00176</td>\n      <td>-0.00298</td>\n      <td>0.00075</td>\n      <td>0.00000</td>\n    </tr>\n    <tr>\n      <th>yearbuilt</th>\n      <td>0.13378</td>\n      <td>0.00483</td>\n      <td>-0.03418</td>\n      <td>-0.00146</td>\n      <td>0.01121</td>\n      <td>0.37024</td>\n      <td>0.04734</td>\n      <td>0.00226</td>\n      <td>0.47629</td>\n      <td>0.37261</td>\n      <td>...</td>\n      <td>0.00122</td>\n      <td>1.00000</td>\n      <td>0.10372</td>\n      <td>0.27769</td>\n      <td>0.11840</td>\n      <td>nan</td>\n      <td>0.02710</td>\n      <td>0.12384</td>\n      <td>0.00917</td>\n      <td>0.03233</td>\n    </tr>\n    <tr>\n      <th>numberofstories</th>\n      <td>0.01879</td>\n      <td>0.00414</td>\n      <td>0.09690</td>\n      <td>-0.00363</td>\n      <td>0.00524</td>\n      <td>0.12749</td>\n      <td>0.06785</td>\n      <td>0.00191</td>\n      <td>0.00022</td>\n      <td>0.14067</td>\n      <td>...</td>\n      <td>-0.01527</td>\n      <td>0.10372</td>\n      <td>1.00000</td>\n      <td>0.06655</td>\n      <td>0.04622</td>\n      <td>nan</td>\n      <td>0.03020</td>\n      <td>0.04503</td>\n      <td>0.00159</td>\n      <td>0.00519</td>\n    </tr>\n    <tr>\n      <th>structuretaxvaluedollarcnt</th>\n      <td>0.02917</td>\n      <td>0.00840</td>\n      <td>-0.04103</td>\n      <td>-0.00081</td>\n      <td>0.00556</td>\n      <td>0.56492</td>\n      <td>0.29588</td>\n      <td>-0.01961</td>\n      <td>0.31770</td>\n      <td>0.58341</td>\n      <td>...</td>\n      <td>-0.00368</td>\n      <td>0.27769</td>\n      <td>0.06655</td>\n      <td>1.00000</td>\n      <td>0.79094</td>\n      <td>nan</td>\n      <td>0.58222</td>\n      <td>0.79209</td>\n      <td>0.01280</td>\n      <td>0.00253</td>\n    </tr>\n    <tr>\n      <th>taxvaluedollarcnt</th>\n      <td>0.01250</td>\n      <td>0.00342</td>\n      <td>-0.00845</td>\n      <td>0.00005</td>\n      <td>0.00883</td>\n      <td>0.46101</td>\n      <td>0.23932</td>\n      <td>-0.00775</td>\n      <td>0.25228</td>\n      <td>0.47798</td>\n      <td>...</td>\n      <td>-0.00262</td>\n      <td>0.11840</td>\n      <td>0.04622</td>\n      <td>0.79094</td>\n      <td>1.00000</td>\n      <td>nan</td>\n      <td>0.95791</td>\n      <td>0.98996</td>\n      <td>0.01280</td>\n      <td>0.00156</td>\n    </tr>\n    <tr>\n      <th>assessmentyear</th>\n      <td>nan</td>\n      <td>nan</td>\n      <td>nan</td>\n      <td>nan</td>\n      <td>nan</td>\n      <td>nan</td>\n      <td>nan</td>\n      <td>nan</td>\n      <td>nan</td>\n      <td>nan</td>\n      <td>...</td>\n      <td>nan</td>\n      <td>nan</td>\n      <td>nan</td>\n      <td>nan</td>\n      <td>nan</td>\n      <td>nan</td>\n      <td>nan</td>\n      <td>nan</td>\n      <td>nan</td>\n      <td>nan</td>\n    </tr>\n    <tr>\n      <th>landtaxvaluedollarcnt</th>\n      <td>0.00401</td>\n      <td>0.00050</td>\n      <td>0.00791</td>\n      <td>0.00044</td>\n      <td>0.00912</td>\n      <td>0.34743</td>\n      <td>0.17895</td>\n      <td>-0.00112</td>\n      <td>0.18609</td>\n      <td>0.36164</td>\n      <td>...</td>\n      <td>-0.00176</td>\n      <td>0.02710</td>\n      <td>0.03020</td>\n      <td>0.58222</td>\n      <td>0.95791</td>\n      <td>nan</td>\n      <td>1.00000</td>\n      <td>0.94416</td>\n      <td>0.01106</td>\n      <td>0.00089</td>\n    </tr>\n    <tr>\n      <th>taxamount</th>\n      <td>0.00222</td>\n      <td>0.00220</td>\n      <td>-0.02405</td>\n      <td>-0.00017</td>\n      <td>0.00821</td>\n      <td>0.46596</td>\n      <td>0.24636</td>\n      <td>-0.01094</td>\n      <td>0.25566</td>\n      <td>0.48306</td>\n      <td>...</td>\n      <td>-0.00298</td>\n      <td>0.12384</td>\n      <td>0.04503</td>\n      <td>0.79209</td>\n      <td>0.98996</td>\n      <td>nan</td>\n      <td>0.94416</td>\n      <td>1.00000</td>\n      <td>0.01285</td>\n      <td>-0.00173</td>\n    </tr>\n    <tr>\n      <th>taxdelinquencyyear</th>\n      <td>-0.00237</td>\n      <td>-0.01936</td>\n      <td>0.00068</td>\n      <td>0.00012</td>\n      <td>0.00000</td>\n      <td>0.00751</td>\n      <td>0.00277</td>\n      <td>0.00156</td>\n      <td>0.01097</td>\n      <td>0.00737</td>\n      <td>...</td>\n      <td>0.00075</td>\n      <td>0.00917</td>\n      <td>0.00159</td>\n      <td>0.01280</td>\n      <td>0.01280</td>\n      <td>nan</td>\n      <td>0.01106</td>\n      <td>0.01285</td>\n      <td>1.00000</td>\n      <td>-0.00074</td>\n    </tr>\n    <tr>\n      <th>censustractandblock</th>\n      <td>0.06192</td>\n      <td>0.00455</td>\n      <td>0.01938</td>\n      <td>0.00000</td>\n      <td>0.00000</td>\n      <td>0.00119</td>\n      <td>0.00780</td>\n      <td>0.00006</td>\n      <td>-0.00128</td>\n      <td>0.00287</td>\n      <td>...</td>\n      <td>0.00000</td>\n      <td>0.03233</td>\n      <td>0.00519</td>\n      <td>0.00253</td>\n      <td>0.00156</td>\n      <td>nan</td>\n      <td>0.00089</td>\n      <td>-0.00173</td>\n      <td>-0.00074</td>\n      <td>1.00000</td>\n    </tr>\n  </tbody>\n</table>\n<p>54 rows × 54 columns</p>\n</div>"
     },
     "metadata": {},
     "execution_count": 15
    }
   ],
   "source": [
    "combined_data.corr()"
   ]
  }
 ],
 "metadata": {
  "kernelspec": {
   "display_name": "Python 3",
   "language": "python",
   "name": "python3"
  },
  "language_info": {
   "codemirror_mode": {
    "name": "ipython",
    "version": 3
   },
   "file_extension": ".py",
   "mimetype": "text/x-python",
   "name": "python",
   "nbconvert_exporter": "python",
   "pygments_lexer": "ipython3",
   "version": "3.8.1-final"
  }
 },
 "nbformat": 4,
 "nbformat_minor": 4
}